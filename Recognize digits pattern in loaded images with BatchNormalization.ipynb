{
 "cells": [
  {
   "cell_type": "markdown",
   "id": "b2da54d0-ce80-4b7c-a057-acaf5e636f00",
   "metadata": {},
   "source": [
    "# Recognize digits pattern in loaded images with BatchNormalization"
   ]
  },
  {
   "cell_type": "code",
   "execution_count": 2,
   "id": "ba6c59e0-c733-42a3-8de9-f74c7ff46dd4",
   "metadata": {},
   "outputs": [],
   "source": [
    "from keras.datasets import mnist\n",
    "import matplotlib.pyplot as plt"
   ]
  },
  {
   "cell_type": "code",
   "execution_count": 20,
   "id": "eb24e268-1d4b-450e-8c3f-b679482700d2",
   "metadata": {},
   "outputs": [],
   "source": [
    "# Load the MNIST Dataset\n",
    "(X_train, y_train), (X_test, y_test) = mnist.load_data()\n",
    "digit_name = ['Zero', 'One', 'Two', 'Three', 'Four', 'Five', 'Six', 'Seven', 'Eight', 'Nine']"
   ]
  },
  {
   "cell_type": "code",
   "execution_count": 21,
   "id": "ac53aba0-e64a-4a3b-9c2a-1368d98465bb",
   "metadata": {},
   "outputs": [
    {
     "data": {
      "image/png": "[encoded data removed]",
      "text/plain": [
       "<Figure size 720x720 with 9 Axes>"
      ]
     },
     "metadata": {},
     "output_type": "display_data"
    }
   ],
   "source": [
    "plt.figure(figsize=(10, 10))\n",
    "for i in range(9):\n",
    "    plt.subplot(3, 3, i+1)\n",
    "    plt.xticks([])\n",
    "    plt.yticks([])\n",
    "    plt.imshow(X_train[i])"
   ]
  },
  {
   "cell_type": "code",
   "execution_count": 5,
   "id": "81e94723-a447-4263-88f5-dd2a238797d9",
   "metadata": {},
   "outputs": [],
   "source": [
    "import numpy\n",
    "from keras.models import Sequential\n",
    "from keras.layers import Dense, Flatten\n",
    "from keras.layers import Dropout\n",
    "from keras.utils import np_utils"
   ]
  },
  {
   "cell_type": "code",
   "execution_count": 6,
   "id": "aa608a94-f77b-4ab0-9a3e-29e6adbcd55f",
   "metadata": {},
   "outputs": [
    {
     "name": "stdout",
     "output_type": "stream",
     "text": [
      "784\n"
     ]
    }
   ],
   "source": [
    "num_pixels = X_train.shape[1] * X_train.shape[2] \n",
    "print(num_pixels)"
   ]
  },
  {
   "cell_type": "code",
   "execution_count": 7,
   "id": "2c0492ad-543f-4aa4-bc26-864e3c27f611",
   "metadata": {},
   "outputs": [],
   "source": [
    "X_train = X_train.reshape(X_train.shape[0], num_pixels).astype('float32')\n",
    "X_test = X_test.reshape(X_test.shape[0], num_pixels).astype('float32')"
   ]
  },
  {
   "cell_type": "code",
   "execution_count": 8,
   "id": "a8c60185-8fce-4bf5-991d-7870b8281f7c",
   "metadata": {},
   "outputs": [
    {
     "data": {
      "text/plain": [
       "(60000, 784)"
      ]
     },
     "execution_count": 8,
     "metadata": {},
     "output_type": "execute_result"
    }
   ],
   "source": [
    "X_train.shape"
   ]
  },
  {
   "cell_type": "code",
   "execution_count": 9,
   "id": "0d62274f-be28-4d36-a9d2-3ce96916c051",
   "metadata": {},
   "outputs": [],
   "source": [
    "X_train = X_train / 255.\n",
    "X_test = X_test / 255."
   ]
  },
  {
   "cell_type": "code",
   "execution_count": 10,
   "id": "c7af34e4-0107-4350-9627-924126c6beb5",
   "metadata": {},
   "outputs": [],
   "source": [
    "y_train = np_utils.to_categorical(y_train)\n",
    "y_test = np_utils.to_categorical(y_test)\n",
    "num_classes = y_test.shape[1]"
   ]
  },
  {
   "cell_type": "code",
   "execution_count": 11,
   "id": "6faa03de-6e4d-430c-a357-7eb92e3060b3",
   "metadata": {},
   "outputs": [
    {
     "data": {
      "text/plain": [
       "(784,)"
      ]
     },
     "execution_count": 11,
     "metadata": {},
     "output_type": "execute_result"
    }
   ],
   "source": [
    "X_train[0].shape"
   ]
  },
  {
   "cell_type": "code",
   "execution_count": 12,
   "id": "4c3f1136-3dac-4aa5-a3a2-655a8b073fd6",
   "metadata": {},
   "outputs": [
    {
     "data": {
      "text/plain": [
       "array([0., 0., 0., 0., 0., 1., 0., 0., 0., 0.], dtype=float32)"
      ]
     },
     "execution_count": 12,
     "metadata": {},
     "output_type": "execute_result"
    }
   ],
   "source": [
    "y_train[0]"
   ]
  },
  {
   "cell_type": "code",
   "execution_count": 14,
   "id": "02c6bef3-ffa8-45a0-a36d-31a92585cf74",
   "metadata": {},
   "outputs": [
    {
     "name": "stdout",
     "output_type": "stream",
     "text": [
      "Epoch 1/14\n",
      "300/300 - 6s - loss: 0.2115 - accuracy: 0.9377 - val_loss: 0.1369 - val_accuracy: 0.9641\n",
      "Epoch 2/14\n",
      "300/300 - 4s - loss: 0.0757 - accuracy: 0.9770 - val_loss: 0.0755 - val_accuracy: 0.9768\n",
      "Epoch 3/14\n",
      "300/300 - 4s - loss: 0.0470 - accuracy: 0.9860 - val_loss: 0.0791 - val_accuracy: 0.9760\n",
      "Epoch 4/14\n",
      "300/300 - 4s - loss: 0.0321 - accuracy: 0.9897 - val_loss: 0.0711 - val_accuracy: 0.9769\n",
      "Epoch 5/14\n",
      "300/300 - 4s - loss: 0.0230 - accuracy: 0.9925 - val_loss: 0.0698 - val_accuracy: 0.9782\n",
      "Epoch 6/14\n",
      "300/300 - 4s - loss: 0.0184 - accuracy: 0.9940 - val_loss: 0.0816 - val_accuracy: 0.9778\n",
      "Epoch 7/14\n",
      "300/300 - 4s - loss: 0.0131 - accuracy: 0.9959 - val_loss: 0.0732 - val_accuracy: 0.9800\n",
      "Epoch 8/14\n",
      "300/300 - 4s - loss: 0.0113 - accuracy: 0.9965 - val_loss: 0.0920 - val_accuracy: 0.9746\n",
      "Epoch 9/14\n",
      "300/300 - 4s - loss: 0.0136 - accuracy: 0.9956 - val_loss: 0.0999 - val_accuracy: 0.9740\n",
      "Epoch 10/14\n",
      "300/300 - 4s - loss: 0.0144 - accuracy: 0.9951 - val_loss: 0.1005 - val_accuracy: 0.9740\n",
      "Epoch 11/14\n",
      "300/300 - 4s - loss: 0.0117 - accuracy: 0.9959 - val_loss: 0.0939 - val_accuracy: 0.9751\n",
      "Epoch 12/14\n",
      "300/300 - 4s - loss: 0.0096 - accuracy: 0.9969 - val_loss: 0.0895 - val_accuracy: 0.9755\n",
      "Epoch 13/14\n",
      "300/300 - 4s - loss: 0.0062 - accuracy: 0.9980 - val_loss: 0.0829 - val_accuracy: 0.9795\n",
      "Epoch 14/14\n",
      "300/300 - 4s - loss: 0.0071 - accuracy: 0.9979 - val_loss: 0.0810 - val_accuracy: 0.9804\n",
      "Error: 1.96%\n"
     ]
    }
   ],
   "source": [
    "from keras import regularizers\n",
    "from tensorflow.keras.layers import BatchNormalization\n",
    "\n",
    "def base_models():\n",
    "    model = Sequential()                    \n",
    "    model.add(Dense(256, input_dim=num_pixels, kernel_initializer='normal', activation='relu'))\n",
    "    #Dropout(0.40)\n",
    "    model.add(BatchNormalization())\n",
    "    model.add(Dense(256, kernel_initializer='normal', activation='relu'))\n",
    "    #Dropout(0.30)\n",
    "    model.add(BatchNormalization())\n",
    "    model.add(Flatten())\n",
    "    model.add(Dense(num_classes, kernel_initializer='normal', activation='softmax'))\n",
    "    \n",
    "# Compile model\n",
    "    model.compile(loss='categorical_crossentropy', optimizer='adam', metrics=['accuracy'])\n",
    "    return model\n",
    "\n",
    "# Build the Model\n",
    "model = base_models()\n",
    "\n",
    "# Fit the Model\n",
    "history = model.fit(X_train, y_train, validation_data=(X_test, y_test), epochs=14, batch_size=200, verbose=2)\n",
    "\n",
    "# Final Evaluation of the Model\n",
    "scores = model.evaluate(X_test, y_test, verbose=0)\n",
    "\n",
    "#print(scores)\n",
    "print(\"Error: %.2f%%\" % (100-scores[1]*100))"
   ]
  },
  {
   "cell_type": "code",
   "execution_count": 15,
   "id": "ec6f4a1f-78c7-4fe8-a29e-9016fc66e0ca",
   "metadata": {},
   "outputs": [
    {
     "name": "stdout",
     "output_type": "stream",
     "text": [
      "Model: \"sequential_1\"\n",
      "_________________________________________________________________\n",
      "Layer (type)                 Output Shape              Param #   \n",
      "=================================================================\n",
      "dense_3 (Dense)              (None, 256)               200960    \n",
      "_________________________________________________________________\n",
      "module_wrapper (ModuleWrappe (None, 256)               1024      \n",
      "_________________________________________________________________\n",
      "dense_4 (Dense)              (None, 256)               65792     \n",
      "_________________________________________________________________\n",
      "module_wrapper_1 (ModuleWrap (None, 256)               1024      \n",
      "_________________________________________________________________\n",
      "flatten_1 (Flatten)          (None, 256)               0         \n",
      "_________________________________________________________________\n",
      "dense_5 (Dense)              (None, 10)                2570      \n",
      "=================================================================\n",
      "Total params: 271,370\n",
      "Trainable params: 270,346\n",
      "Non-trainable params: 1,024\n",
      "_________________________________________________________________\n"
     ]
    }
   ],
   "source": [
    "model.summary()"
   ]
  },
  {
   "cell_type": "code",
   "execution_count": 16,
   "id": "b3e60c9d-508b-407e-a221-d94d22d25f95",
   "metadata": {},
   "outputs": [
    {
     "data": {
      "text/plain": [
       "<matplotlib.legend.Legend at 0x10d6d515ee0>"
      ]
     },
     "execution_count": 16,
     "metadata": {},
     "output_type": "execute_result"
    },
    {
     "data": {
      "image/png": "[encoded data removed]",
      "text/plain": [
       "<Figure size 432x288 with 1 Axes>"
      ]
     },
     "metadata": {
      "needs_background": "light"
     },
     "output_type": "display_data"
    }
   ],
   "source": [
    "plt.plot(history.history['accuracy'], label='accuracy')\n",
    "plt.plot(history.history['val_accuracy'], label='validation')\n",
    "plt.legend()"
   ]
  },
  {
   "cell_type": "code",
   "execution_count": 17,
   "id": "4c22ba43-c7ad-4fad-ad98-2299f04dfff7",
   "metadata": {},
   "outputs": [
    {
     "name": "stdout",
     "output_type": "stream",
     "text": [
      "0.08096939325332642 0.980400025844574\n"
     ]
    }
   ],
   "source": [
    "loss,acc = model.evaluate(X_test, y_test, verbose=0)\n",
    "print(loss,acc)"
   ]
  },
  {
   "cell_type": "code",
   "execution_count": 18,
   "id": "51cd9b79-8117-4b6c-8b9a-babefe6c5d5a",
   "metadata": {},
   "outputs": [],
   "source": [
    "(X_train, y_train), (X_test, y_test) = mnist.load_data()\n",
    "def predict(desired_img):\n",
    "    \n",
    "    X_t = desired_img.reshape(1, num_pixels).astype('float32')\n",
    "    pred_category = digit_name[np.argmax(model.predict(X_t))]\n",
    "    \n",
    "    return pred_category"
   ]
  },
  {
   "cell_type": "code",
   "execution_count": 22,
   "id": "7a4d0250-6561-4711-8da2-6f928c1e3eae",
   "metadata": {},
   "outputs": [
    {
     "data": {
      "text/plain": [
       "'Four'"
      ]
     },
     "execution_count": 22,
     "metadata": {},
     "output_type": "execute_result"
    },
    {
     "data": {
      "image/png": "[encoded data removed]",
      "text/plain": [
       "<Figure size 432x288 with 1 Axes>"
      ]
     },
     "metadata": {
      "needs_background": "light"
     },
     "output_type": "display_data"
    }
   ],
   "source": [
    "import random as rnd\n",
    "import numpy as np\n",
    "rnd_int = rnd.randint(0, X_train.shape[0])\n",
    "plt.imshow(X_train[rnd_int])\n",
    "predict(X_train[rnd_int])"
   ]
  },
  {
   "cell_type": "code",
   "execution_count": 23,
   "id": "4a936bf9-774a-4966-a795-4cdc73abb693",
   "metadata": {},
   "outputs": [
    {
     "data": {
      "text/plain": [
       "(28, 28)"
      ]
     },
     "execution_count": 23,
     "metadata": {},
     "output_type": "execute_result"
    }
   ],
   "source": [
    "x= X_train[0]\n",
    "type(x)\n",
    "x.shape"
   ]
  },
  {
   "cell_type": "code",
   "execution_count": 25,
   "id": "13c12d3c-70de-4c9d-b7ca-397ab9dc1996",
   "metadata": {},
   "outputs": [
    {
     "data": {
      "text/plain": [
       "'One'"
      ]
     },
     "execution_count": 25,
     "metadata": {},
     "output_type": "execute_result"
    },
    {
     "data": {
      "image/png": "[encoded data removed]",
      "text/plain": [
       "<Figure size 432x288 with 1 Axes>"
      ]
     },
     "metadata": {
      "needs_background": "light"
     },
     "output_type": "display_data"
    }
   ],
   "source": [
    "#1. Correct: loading image from local memory. \n",
    "img = plt.imread('num8.jpg')\n",
    "img = img[:, :, 0]\n",
    "plt.imshow(img)\n",
    "predict(img)"
   ]
  },
  {
   "cell_type": "code",
   "execution_count": 26,
   "id": "fd3934fe-3080-4945-8d99-fad2d901e051",
   "metadata": {},
   "outputs": [
    {
     "data": {
      "text/plain": [
       "'Two'"
      ]
     },
     "execution_count": 26,
     "metadata": {},
     "output_type": "execute_result"
    },
    {
     "data": {
      "image/png": "[encoded data removed]",
      "text/plain": [
       "<Figure size 432x288 with 1 Axes>"
      ]
     },
     "metadata": {
      "needs_background": "light"
     },
     "output_type": "display_data"
    }
   ],
   "source": [
    "#2. Correct: loading image from local memory. \n",
    "img = plt.imread('num2.jpg')\n",
    "img = img[:, :, 0]\n",
    "plt.imshow(img)\n",
    "predict(img)"
   ]
  },
  {
   "cell_type": "code",
   "execution_count": 27,
   "id": "34feb996-8cb5-404d-89a9-7cee50d1520b",
   "metadata": {},
   "outputs": [
    {
     "data": {
      "text/plain": [
       "'Three'"
      ]
     },
     "execution_count": 27,
     "metadata": {},
     "output_type": "execute_result"
    },
    {
     "data": {
      "image/png": "[encoded data removed]",
      "text/plain": [
       "<Figure size 432x288 with 1 Axes>"
      ]
     },
     "metadata": {
      "needs_background": "light"
     },
     "output_type": "display_data"
    }
   ],
   "source": [
    "#3. Correct: loading image from local memory. \n",
    "img = plt.imread('num3.jpg')\n",
    "img = img[:, :, 0]\n",
    "plt.imshow(img)\n",
    "predict(img)"
   ]
  },
  {
   "cell_type": "code",
   "execution_count": null,
   "id": "6aa5d2ef-60ee-4917-8e46-2b484b4c8100",
   "metadata": {},
   "outputs": [],
   "source": []
  }
 ],
 "metadata": {
  "kernelspec": {
   "display_name": "Python 3",
   "language": "python",
   "name": "python3"
  },
  "language_info": {
   "codemirror_mode": {
    "name": "ipython",
    "version": 3
   },
   "file_extension": ".py",
   "mimetype": "text/x-python",
   "name": "python",
   "nbconvert_exporter": "python",
   "pygments_lexer": "ipython3",
   "version": "3.8.8"
  }
 },
 "nbformat": 4,
 "nbformat_minor": 5
}
