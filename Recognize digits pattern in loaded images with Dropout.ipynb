{
 "cells": [
  {
   "cell_type": "markdown",
   "id": "b2da54d0-ce80-4b7c-a057-acaf5e636f00",
   "metadata": {},
   "source": [
    "# Recognize digits pattern in loaded images with Dropout "
   ]
  },
  {
   "cell_type": "code",
   "execution_count": 1,
   "id": "ba6c59e0-c733-42a3-8de9-f74c7ff46dd4",
   "metadata": {},
   "outputs": [],
   "source": [
    "from keras.datasets import mnist\n",
    "import matplotlib.pyplot as plt"
   ]
  },
  {
   "cell_type": "code",
   "execution_count": 2,
   "id": "eb24e268-1d4b-450e-8c3f-b679482700d2",
   "metadata": {},
   "outputs": [],
   "source": [
    "# Load the MNIST Dataset\n",
    "(X_train, y_train), (X_test, y_test) = mnist.load_data()"
   ]
  },
  {
   "cell_type": "code",
   "execution_count": 3,
   "id": "ac53aba0-e64a-4a3b-9c2a-1368d98465bb",
   "metadata": {},
   "outputs": [
    {
     "data": {
      "image/png": "[encoded data removed]",
      "text/plain": [
       "<Figure size 720x720 with 9 Axes>"
      ]
     },
     "metadata": {},
     "output_type": "display_data"
    }
   ],
   "source": [
    "plt.figure(figsize=(10, 10))\n",
    "for i in range(9):\n",
    "    plt.subplot(3, 3, i+1)\n",
    "    plt.xticks([])\n",
    "    plt.yticks([])\n",
    "    plt.imshow(X_train[i])"
   ]
  },
  {
   "cell_type": "code",
   "execution_count": 4,
   "id": "81e94723-a447-4263-88f5-dd2a238797d9",
   "metadata": {},
   "outputs": [],
   "source": [
    "import numpy\n",
    "from keras.models import Sequential\n",
    "from keras.layers import Dense, Flatten\n",
    "from keras.layers import Dropout\n",
    "from keras.utils import np_utils"
   ]
  },
  {
   "cell_type": "code",
   "execution_count": 5,
   "id": "aa608a94-f77b-4ab0-9a3e-29e6adbcd55f",
   "metadata": {},
   "outputs": [
    {
     "name": "stdout",
     "output_type": "stream",
     "text": [
      "784\n"
     ]
    }
   ],
   "source": [
    "num_pixels = X_train.shape[1] * X_train.shape[2] \n",
    "print(num_pixels)"
   ]
  },
  {
   "cell_type": "code",
   "execution_count": 6,
   "id": "2c0492ad-543f-4aa4-bc26-864e3c27f611",
   "metadata": {},
   "outputs": [],
   "source": [
    "X_train = X_train.reshape(X_train.shape[0], num_pixels).astype('float32')\n",
    "X_test = X_test.reshape(X_test.shape[0], num_pixels).astype('float32')"
   ]
  },
  {
   "cell_type": "code",
   "execution_count": 7,
   "id": "a8c60185-8fce-4bf5-991d-7870b8281f7c",
   "metadata": {},
   "outputs": [
    {
     "data": {
      "text/plain": [
       "(60000, 784)"
      ]
     },
     "execution_count": 7,
     "metadata": {},
     "output_type": "execute_result"
    }
   ],
   "source": [
    "X_train.shape"
   ]
  },
  {
   "cell_type": "code",
   "execution_count": 8,
   "id": "0d62274f-be28-4d36-a9d2-3ce96916c051",
   "metadata": {},
   "outputs": [],
   "source": [
    "X_train = X_train / 255.\n",
    "X_test = X_test / 255."
   ]
  },
  {
   "cell_type": "code",
   "execution_count": 9,
   "id": "c7af34e4-0107-4350-9627-924126c6beb5",
   "metadata": {},
   "outputs": [],
   "source": [
    "y_train = np_utils.to_categorical(y_train)\n",
    "y_test = np_utils.to_categorical(y_test)\n",
    "num_classes = y_test.shape[1]"
   ]
  },
  {
   "cell_type": "code",
   "execution_count": 10,
   "id": "6faa03de-6e4d-430c-a357-7eb92e3060b3",
   "metadata": {},
   "outputs": [
    {
     "data": {
      "text/plain": [
       "(784,)"
      ]
     },
     "execution_count": 10,
     "metadata": {},
     "output_type": "execute_result"
    }
   ],
   "source": [
    "X_train[0].shape"
   ]
  },
  {
   "cell_type": "code",
   "execution_count": 11,
   "id": "4c3f1136-3dac-4aa5-a3a2-655a8b073fd6",
   "metadata": {},
   "outputs": [
    {
     "data": {
      "text/plain": [
       "array([0., 0., 0., 0., 0., 1., 0., 0., 0., 0.], dtype=float32)"
      ]
     },
     "execution_count": 11,
     "metadata": {},
     "output_type": "execute_result"
    }
   ],
   "source": [
    "y_train[0]"
   ]
  },
  {
   "cell_type": "code",
   "execution_count": 21,
   "id": "02c6bef3-ffa8-45a0-a36d-31a92585cf74",
   "metadata": {},
   "outputs": [
    {
     "name": "stdout",
     "output_type": "stream",
     "text": [
      "Epoch 1/14\n",
      "300/300 - 4s - loss: 0.3412 - accuracy: 0.9038 - val_loss: 0.1593 - val_accuracy: 0.9525\n",
      "Epoch 2/14\n",
      "300/300 - 3s - loss: 0.1234 - accuracy: 0.9638 - val_loss: 0.0979 - val_accuracy: 0.9699\n",
      "Epoch 3/14\n",
      "300/300 - 3s - loss: 0.0804 - accuracy: 0.9759 - val_loss: 0.0919 - val_accuracy: 0.9728\n",
      "Epoch 4/14\n",
      "300/300 - 3s - loss: 0.0580 - accuracy: 0.9822 - val_loss: 0.0752 - val_accuracy: 0.9762\n",
      "Epoch 5/14\n",
      "300/300 - 3s - loss: 0.0432 - accuracy: 0.9867 - val_loss: 0.0667 - val_accuracy: 0.9799\n",
      "Epoch 6/14\n",
      "300/300 - 3s - loss: 0.0315 - accuracy: 0.9906 - val_loss: 0.0789 - val_accuracy: 0.9756\n",
      "Epoch 7/14\n",
      "300/300 - 3s - loss: 0.0248 - accuracy: 0.9922 - val_loss: 0.0700 - val_accuracy: 0.9788\n",
      "Epoch 8/14\n",
      "300/300 - 3s - loss: 0.0211 - accuracy: 0.9933 - val_loss: 0.0764 - val_accuracy: 0.9784\n",
      "Epoch 9/14\n",
      "300/300 - 3s - loss: 0.0160 - accuracy: 0.9953 - val_loss: 0.0744 - val_accuracy: 0.9782\n",
      "Epoch 10/14\n",
      "300/300 - 3s - loss: 0.0160 - accuracy: 0.9947 - val_loss: 0.0672 - val_accuracy: 0.9809\n",
      "Epoch 11/14\n",
      "300/300 - 3s - loss: 0.0109 - accuracy: 0.9964 - val_loss: 0.0738 - val_accuracy: 0.9813\n",
      "Epoch 12/14\n",
      "300/300 - 3s - loss: 0.0061 - accuracy: 0.9983 - val_loss: 0.0807 - val_accuracy: 0.9812\n",
      "Epoch 13/14\n",
      "300/300 - 3s - loss: 0.0050 - accuracy: 0.9986 - val_loss: 0.0873 - val_accuracy: 0.9799\n",
      "Epoch 14/14\n",
      "300/300 - 3s - loss: 0.0116 - accuracy: 0.9959 - val_loss: 0.1022 - val_accuracy: 0.9759\n",
      "Error: 2.41%\n"
     ]
    }
   ],
   "source": [
    "from keras import regularizers\n",
    "\n",
    "def base_models():\n",
    "    model = Sequential()                    \n",
    "    model.add(Dense(256, input_dim=num_pixels, kernel_initializer='normal', activation='relu'))\n",
    "    Dropout(0.40)\n",
    "    model.add(Dense(256, kernel_initializer='normal', activation='relu'))\n",
    "    Dropout(0.30)\n",
    "    model.add(Flatten())\n",
    "    model.add(Dense(num_classes, kernel_initializer='normal', activation='softmax'))\n",
    "    \n",
    "# Compile model\n",
    "    model.compile(loss='categorical_crossentropy', optimizer='adam', metrics=['accuracy'])\n",
    "    return model\n",
    "\n",
    "# Build the Model\n",
    "model = base_models()\n",
    "\n",
    "# Fit the Model\n",
    "history = model.fit(X_train, y_train, validation_data=(X_test, y_test), epochs=14, batch_size=200, verbose=2)\n",
    "\n",
    "# Final Evaluation of the Model\n",
    "scores = model.evaluate(X_test, y_test, verbose=0)\n",
    "\n",
    "#print(scores)\n",
    "print(\"Error: %.2f%%\" % (100-scores[1]*100))"
   ]
  },
  {
   "cell_type": "code",
   "execution_count": 20,
   "id": "ec6f4a1f-78c7-4fe8-a29e-9016fc66e0ca",
   "metadata": {},
   "outputs": [
    {
     "name": "stdout",
     "output_type": "stream",
     "text": [
      "Model: \"sequential_7\"\n",
      "_________________________________________________________________\n",
      "Layer (type)                 Output Shape              Param #   \n",
      "=================================================================\n",
      "dense_16 (Dense)             (None, 256)               200960    \n",
      "_________________________________________________________________\n",
      "dense_17 (Dense)             (None, 256)               65792     \n",
      "_________________________________________________________________\n",
      "flatten_5 (Flatten)          (None, 256)               0         \n",
      "_________________________________________________________________\n",
      "dense_18 (Dense)             (None, 10)                2570      \n",
      "=================================================================\n",
      "Total params: 269,322\n",
      "Trainable params: 269,322\n",
      "Non-trainable params: 0\n",
      "_________________________________________________________________\n"
     ]
    }
   ],
   "source": [
    "model.summary()"
   ]
  },
  {
   "cell_type": "code",
   "execution_count": null,
   "id": "debdf3c8-7987-4568-aa1c-4ac89a9df671",
   "metadata": {},
   "outputs": [],
   "source": []
  }
 ],
 "metadata": {
  "kernelspec": {
   "display_name": "Python 3",
   "language": "python",
   "name": "python3"
  },
  "language_info": {
   "codemirror_mode": {
    "name": "ipython",
    "version": 3
   },
   "file_extension": ".py",
   "mimetype": "text/x-python",
   "name": "python",
   "nbconvert_exporter": "python",
   "pygments_lexer": "ipython3",
   "version": "3.8.8"
  }
 },
 "nbformat": 4,
 "nbformat_minor": 5
}
