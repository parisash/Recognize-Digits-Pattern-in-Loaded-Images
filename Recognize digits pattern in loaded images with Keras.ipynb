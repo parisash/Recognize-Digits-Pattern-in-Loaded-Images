{
 "cells": [
  {
   "cell_type": "markdown",
   "id": "bb23909d-5bf9-42a2-8b50-ad80289368b4",
   "metadata": {},
   "source": [
    "### Recognize digits pattern in loaded images with Keras"
   ]
  },
  {
   "cell_type": "code",
   "execution_count": 1,
   "id": "a9de94b0-5257-409b-b040-f2beec4350bd",
   "metadata": {},
   "outputs": [],
   "source": [
    "from keras.datasets import mnist\n",
    "import matplotlib.pyplot as plt"
   ]
  },
  {
   "cell_type": "code",
   "execution_count": 2,
   "id": "c2167f44-05c0-42c9-a111-aae29d4270a5",
   "metadata": {},
   "outputs": [],
   "source": [
    "# Load the MNIST Dataset\n",
    "(X_train, y_train), (X_test, y_test) = mnist.load_data()\n",
    "digit_name = ['Zero', 'One', 'Two', 'Three', 'Four', 'Five', 'Six', 'Seven', 'Eight', 'Nine']"
   ]
  },
  {
   "cell_type": "code",
   "execution_count": 3,
   "id": "4a04b75f-b5b0-4003-8f00-fd7d4a22451f",
   "metadata": {},
   "outputs": [
    {
     "name": "stdout",
     "output_type": "stream",
     "text": [
      "X_train: (60000, 28, 28)\n",
      "Y_train: (60000,)\n",
      "X_test:  (10000, 28, 28)\n",
      "Y_test:  (10000,)\n"
     ]
    }
   ],
   "source": [
    "#Shape of Dataset\n",
    "print('X_train: ' + str(X_train.shape))\n",
    "print('Y_train: ' + str(y_train.shape))\n",
    "print('X_test:  '  + str(X_test.shape))\n",
    "print('Y_test:  '  + str(y_test.shape))"
   ]
  },
  {
   "cell_type": "code",
   "execution_count": 4,
   "id": "bdd9e193-575c-4558-aa36-8681f968e0d3",
   "metadata": {},
   "outputs": [
    {
     "data": {
      "image/png": "[encoded data removed]",
      "text/plain": [
       "<Figure size 720x720 with 16 Axes>"
      ]
     },
     "metadata": {},
     "output_type": "display_data"
    }
   ],
   "source": [
    "# EDA\n",
    "plt.figure(figsize=(10, 10))\n",
    "for i in range(16):\n",
    "    plt.subplot(4, 4, i+1)\n",
    "    plt.xticks([])\n",
    "    plt.yticks([])\n",
    "    plt.imshow(X_train[i])\n",
    "    plt.xlabel(digit_name[y_train[i]])"
   ]
  },
  {
   "cell_type": "markdown",
   "id": "556db60c-5199-43cb-a7bf-5deffdd882a3",
   "metadata": {},
   "source": [
    "## Neural Network"
   ]
  },
  {
   "cell_type": "code",
   "execution_count": 5,
   "id": "2a010a0a-d38a-4e85-b2fb-cd522a8f805a",
   "metadata": {},
   "outputs": [],
   "source": [
    "import numpy\n",
    "from keras.models import Sequential\n",
    "from keras.layers import Dense, Flatten\n",
    "from keras.layers import Dropout\n",
    "from keras.utils import np_utils"
   ]
  },
  {
   "cell_type": "code",
   "execution_count": 6,
   "id": "5ae4d6da-e210-48e9-88ae-931b87cd2796",
   "metadata": {},
   "outputs": [
    {
     "name": "stdout",
     "output_type": "stream",
     "text": [
      "784\n"
     ]
    }
   ],
   "source": [
    "# flatten 28*28 images to a 1*784 vector for each image\n",
    "num_pixels = X_train.shape[1] * X_train.shape[2] \n",
    "print(num_pixels)"
   ]
  },
  {
   "cell_type": "code",
   "execution_count": 7,
   "id": "dae1e9c0-277d-49fa-86bb-b849c08accaa",
   "metadata": {},
   "outputs": [],
   "source": [
    "#Flattening numpy array 28*28 to 784\n",
    "X_train = X_train.reshape(X_train.shape[0], num_pixels).astype('float32')\n",
    "X_test = X_test.reshape(X_test.shape[0], num_pixels).astype('float32')"
   ]
  },
  {
   "cell_type": "code",
   "execution_count": 8,
   "id": "b4621400-cf04-455e-8873-08399933687c",
   "metadata": {},
   "outputs": [
    {
     "data": {
      "text/plain": [
       "(60000, 784)"
      ]
     },
     "execution_count": 8,
     "metadata": {},
     "output_type": "execute_result"
    }
   ],
   "source": [
    "X_train.shape"
   ]
  },
  {
   "cell_type": "code",
   "execution_count": 9,
   "id": "6f453991-210b-44be-81f8-88be535d4653",
   "metadata": {},
   "outputs": [],
   "source": [
    "# Normalize inputs\n",
    "X_train = X_train / 255.\n",
    "X_test = X_test / 255."
   ]
  },
  {
   "cell_type": "code",
   "execution_count": 10,
   "id": "eb578800-2801-46c0-bba0-e1d54a1528e2",
   "metadata": {},
   "outputs": [],
   "source": [
    "# One Hot Encoding\n",
    "y_train = np_utils.to_categorical(y_train)\n",
    "y_test = np_utils.to_categorical(y_test)\n",
    "num_classes = y_test.shape[1]"
   ]
  },
  {
   "cell_type": "code",
   "execution_count": 11,
   "id": "112de264-2d97-4f8d-acbb-2a3e71469921",
   "metadata": {},
   "outputs": [
    {
     "data": {
      "text/plain": [
       "(784,)"
      ]
     },
     "execution_count": 11,
     "metadata": {},
     "output_type": "execute_result"
    }
   ],
   "source": [
    "X_train[0].shape"
   ]
  },
  {
   "cell_type": "code",
   "execution_count": 12,
   "id": "52da957d-a4ec-4305-9f6b-e5039a858262",
   "metadata": {},
   "outputs": [
    {
     "data": {
      "text/plain": [
       "array([0., 0., 0., 0., 0., 1., 0., 0., 0., 0.], dtype=float32)"
      ]
     },
     "execution_count": 12,
     "metadata": {},
     "output_type": "execute_result"
    }
   ],
   "source": [
    "y_train[0]"
   ]
  },
  {
   "cell_type": "code",
   "execution_count": 16,
   "id": "bde576dc-8af8-4b74-8781-170d911e7c32",
   "metadata": {},
   "outputs": [
    {
     "name": "stdout",
     "output_type": "stream",
     "text": [
      "Epoch 1/14\n",
      "300/300 - 5s - loss: 0.3369 - accuracy: 0.9054 - val_loss: 0.1541 - val_accuracy: 0.9548\n",
      "Epoch 2/14\n",
      "300/300 - 3s - loss: 0.1263 - accuracy: 0.9621 - val_loss: 0.1123 - val_accuracy: 0.9662\n",
      "Epoch 3/14\n",
      "300/300 - 3s - loss: 0.0824 - accuracy: 0.9752 - val_loss: 0.0836 - val_accuracy: 0.9740\n",
      "Epoch 4/14\n",
      "300/300 - 3s - loss: 0.0598 - accuracy: 0.9814 - val_loss: 0.0767 - val_accuracy: 0.9761\n",
      "Epoch 5/14\n",
      "300/300 - 3s - loss: 0.0423 - accuracy: 0.9867 - val_loss: 0.0689 - val_accuracy: 0.9801\n",
      "Epoch 6/14\n",
      "300/300 - 3s - loss: 0.0331 - accuracy: 0.9895 - val_loss: 0.0756 - val_accuracy: 0.9776\n",
      "Epoch 7/14\n",
      "300/300 - 3s - loss: 0.0266 - accuracy: 0.9915 - val_loss: 0.0767 - val_accuracy: 0.9767\n",
      "Epoch 8/14\n",
      "300/300 - 3s - loss: 0.0206 - accuracy: 0.9937 - val_loss: 0.0711 - val_accuracy: 0.9805\n",
      "Epoch 9/14\n",
      "300/300 - 3s - loss: 0.0160 - accuracy: 0.9951 - val_loss: 0.0729 - val_accuracy: 0.9795\n",
      "Epoch 10/14\n",
      "300/300 - 3s - loss: 0.0136 - accuracy: 0.9958 - val_loss: 0.0748 - val_accuracy: 0.9816\n",
      "Epoch 11/14\n",
      "300/300 - 3s - loss: 0.0115 - accuracy: 0.9965 - val_loss: 0.0893 - val_accuracy: 0.9792\n",
      "Epoch 12/14\n",
      "300/300 - 3s - loss: 0.0105 - accuracy: 0.9966 - val_loss: 0.0894 - val_accuracy: 0.9766\n",
      "Epoch 13/14\n",
      "300/300 - 3s - loss: 0.0113 - accuracy: 0.9962 - val_loss: 0.0857 - val_accuracy: 0.9803\n",
      "Epoch 14/14\n",
      "300/300 - 3s - loss: 0.0093 - accuracy: 0.9971 - val_loss: 0.0791 - val_accuracy: 0.9807\n",
      "Error: 1.93%\n"
     ]
    }
   ],
   "source": [
    "# Model: input:[1x784], layer1: 256 perceptrons: Relu, layer2: 256 perceptrons: Relu, layer3:10 perceptrons:Softmax\n",
    "\n",
    "# Design and Create Model\n",
    "def base_models():\n",
    "    model = Sequential()\n",
    "    model.add(Dense(256, input_dim=num_pixels, kernel_initializer='normal', activation='relu'))\n",
    "    model.add(Dense(256, kernel_initializer='normal', activation='relu'))\n",
    "    model.add(Flatten())\n",
    "    model.add(Dense(num_classes, kernel_initializer='normal', activation='softmax'))\n",
    "    \n",
    "# Compile model\n",
    "    model.compile(loss='categorical_crossentropy', optimizer='adam', metrics=['accuracy'])\n",
    "    return model\n",
    "\n",
    "# Build the Model\n",
    "model = base_models()\n",
    "\n",
    "# Fit the Model\n",
    "history = model.fit(X_train, y_train, validation_data=(X_test, y_test), epochs=14, batch_size=200, verbose=2)\n",
    "\n",
    "# Final Evaluation of the Model\n",
    "scores = model.evaluate(X_test, y_test, verbose=0)\n",
    "\n",
    "#print(scores)\n",
    "print(\"Error: %.2f%%\" % (100-scores[1]*100))"
   ]
  },
  {
   "cell_type": "code",
   "execution_count": 17,
   "id": "6c20f560-6f91-40be-9111-be0860444a3d",
   "metadata": {},
   "outputs": [
    {
     "name": "stdout",
     "output_type": "stream",
     "text": [
      "Model: \"sequential_2\"\n",
      "_________________________________________________________________\n",
      "Layer (type)                 Output Shape              Param #   \n",
      "=================================================================\n",
      "dense_6 (Dense)              (None, 256)               200960    \n",
      "_________________________________________________________________\n",
      "dense_7 (Dense)              (None, 256)               65792     \n",
      "_________________________________________________________________\n",
      "flatten_2 (Flatten)          (None, 256)               0         \n",
      "_________________________________________________________________\n",
      "dense_8 (Dense)              (None, 10)                2570      \n",
      "=================================================================\n",
      "Total params: 269,322\n",
      "Trainable params: 269,322\n",
      "Non-trainable params: 0\n",
      "_________________________________________________________________\n"
     ]
    }
   ],
   "source": [
    "model.summary()"
   ]
  },
  {
   "cell_type": "code",
   "execution_count": 18,
   "id": "a35e5378-0bb2-48c8-a76a-57860d706d06",
   "metadata": {},
   "outputs": [
    {
     "data": {
      "text/plain": [
       "<matplotlib.legend.Legend at 0x17a326c7d60>"
      ]
     },
     "execution_count": 18,
     "metadata": {},
     "output_type": "execute_result"
    },
    {
     "data": {
      "image/png": "[encoded data removed]",
      "text/plain": [
       "<Figure size 432x288 with 1 Axes>"
      ]
     },
     "metadata": {
      "needs_background": "light"
     },
     "output_type": "display_data"
    }
   ],
   "source": [
    "plt.plot(history.history['accuracy'], label='accuracy')\n",
    "plt.plot(history.history['val_accuracy'], label='validation')\n",
    "plt.legend()"
   ]
  },
  {
   "cell_type": "code",
   "execution_count": 19,
   "id": "24b47ecb-0dfb-4169-93a4-1e1c13a23d0c",
   "metadata": {},
   "outputs": [
    {
     "name": "stdout",
     "output_type": "stream",
     "text": [
      "0.07910257577896118 0.9807000160217285\n"
     ]
    }
   ],
   "source": [
    "loss,acc = model.evaluate(X_test, y_test, verbose=0)\n",
    "print(loss,acc)"
   ]
  },
  {
   "cell_type": "code",
   "execution_count": 20,
   "id": "74407134-23d5-4a21-99c2-ff115a254299",
   "metadata": {},
   "outputs": [],
   "source": [
    "(X_train, y_train), (X_test, y_test) = mnist.load_data()\n",
    "def predict(desired_img):\n",
    "    \n",
    "    X_t = desired_img.reshape(1, num_pixels).astype('float32')\n",
    "    pred_category = digit_name[np.argmax(model.predict(X_t))]\n",
    "    \n",
    "    return pred_category"
   ]
  },
  {
   "cell_type": "code",
   "execution_count": 21,
   "id": "697f406c-d979-4ed5-99bd-9b2f42aaebf4",
   "metadata": {},
   "outputs": [
    {
     "data": {
      "text/plain": [
       "'Seven'"
      ]
     },
     "execution_count": 21,
     "metadata": {},
     "output_type": "execute_result"
    },
    {
     "data": {
      "image/png": "[encoded data removed]",
      "text/plain": [
       "<Figure size 432x288 with 1 Axes>"
      ]
     },
     "metadata": {
      "needs_background": "light"
     },
     "output_type": "display_data"
    }
   ],
   "source": [
    "import random as rnd\n",
    "import numpy as np\n",
    "rnd_int = rnd.randint(0, X_train.shape[0])\n",
    "plt.imshow(X_train[rnd_int])\n",
    "predict(X_train[rnd_int])"
   ]
  },
  {
   "cell_type": "code",
   "execution_count": 22,
   "id": "e319f61a-8f7b-4e1d-9740-644dd08cfbd7",
   "metadata": {},
   "outputs": [
    {
     "data": {
      "text/plain": [
       "(28, 28)"
      ]
     },
     "execution_count": 22,
     "metadata": {},
     "output_type": "execute_result"
    }
   ],
   "source": [
    "x= X_train[0]\n",
    "type(x)\n",
    "x.shape"
   ]
  },
  {
   "cell_type": "code",
   "execution_count": 23,
   "id": "58669e59-cd59-45aa-b3db-176d87f2c695",
   "metadata": {},
   "outputs": [
    {
     "data": {
      "text/plain": [
       "'Five'"
      ]
     },
     "execution_count": 23,
     "metadata": {},
     "output_type": "execute_result"
    },
    {
     "data": {
      "image/png": "[encoded data removed]",
      "text/plain": [
       "<Figure size 432x288 with 1 Axes>"
      ]
     },
     "metadata": {
      "needs_background": "light"
     },
     "output_type": "display_data"
    }
   ],
   "source": [
    "#1. Correct: loading image from local memory. \n",
    "img = plt.imread('images.jpg')\n",
    "img = img[:, :, 0]\n",
    "plt.imshow(img)\n",
    "#plt.imshow(img)\n",
    "predict(img)"
   ]
  },
  {
   "cell_type": "code",
   "execution_count": 24,
   "id": "9c86ae50-6d02-406c-8000-97e99f68b3d8",
   "metadata": {},
   "outputs": [
    {
     "data": {
      "text/plain": [
       "'Seven'"
      ]
     },
     "execution_count": 24,
     "metadata": {},
     "output_type": "execute_result"
    },
    {
     "data": {
      "image/png": "[encoded data removed]",
      "text/plain": [
       "<Figure size 432x288 with 1 Axes>"
      ]
     },
     "metadata": {
      "needs_background": "light"
     },
     "output_type": "display_data"
    }
   ],
   "source": [
    "#2. Correct: loading image from local memory. \n",
    "img = plt.imread('sample_image.png')\n",
    "img = img[:, :, 0]\n",
    "plt.imshow(img)\n",
    "#plt.imshow(img)\n",
    "predict(img)"
   ]
  },
  {
   "cell_type": "code",
   "execution_count": 25,
   "id": "ad38a060-81a3-4fd2-ba90-d433ad4302d2",
   "metadata": {},
   "outputs": [
    {
     "data": {
      "text/plain": [
       "'Six'"
      ]
     },
     "execution_count": 25,
     "metadata": {},
     "output_type": "execute_result"
    },
    {
     "data": {
      "image/png": "[encoded data removed]",
      "text/plain": [
       "<Figure size 432x288 with 1 Axes>"
      ]
     },
     "metadata": {
      "needs_background": "light"
     },
     "output_type": "display_data"
    }
   ],
   "source": [
    "#3. Correct: loading image from local memory. \n",
    "img = plt.imread('RdEpj.png')\n",
    "img = img[:, :, 0]\n",
    "plt.imshow(img)\n",
    "#plt.imshow(img)\n",
    "predict(img)"
   ]
  }
 ],
 "metadata": {
  "kernelspec": {
   "display_name": "Python 3",
   "language": "python",
   "name": "python3"
  },
  "language_info": {
   "codemirror_mode": {
    "name": "ipython",
    "version": 3
   },
   "file_extension": ".py",
   "mimetype": "text/x-python",
   "name": "python",
   "nbconvert_exporter": "python",
   "pygments_lexer": "ipython3",
   "version": "3.8.8"
  }
 },
 "nbformat": 4,
 "nbformat_minor": 5
}
